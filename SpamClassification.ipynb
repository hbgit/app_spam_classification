{
  "nbformat": 4,
  "nbformat_minor": 0,
  "metadata": {
    "colab": {
      "provenance": [],
      "authorship_tag": "ABX9TyOMVLAoFHwLGjoOcjkQWo80",
      "include_colab_link": true
    },
    "kernelspec": {
      "name": "python3",
      "display_name": "Python 3"
    },
    "language_info": {
      "name": "python"
    }
  },
  "cells": [
    {
      "cell_type": "markdown",
      "metadata": {
        "id": "view-in-github",
        "colab_type": "text"
      },
      "source": [
        "<a href=\"https://colab.research.google.com/github/hbgit/app_spam_classification/blob/main/SpamClassification.ipynb\" target=\"_parent\"><img src=\"https://colab.research.google.com/assets/colab-badge.svg\" alt=\"Open In Colab\"/></a>"
      ]
    },
    {
      "cell_type": "code",
      "execution_count": 1,
      "metadata": {
        "colab": {
          "base_uri": "https://localhost:8080/"
        },
        "id": "lw9nltYhd96C",
        "outputId": "f4dddeb8-f2fe-4563-e3ea-80d1b3de2738"
      },
      "outputs": [
        {
          "output_type": "stream",
          "name": "stdout",
          "text": [
            "\u001b[K     |████████████████████████████████| 577 kB 41.1 MB/s \n",
            "\u001b[K     |████████████████████████████████| 3.4 MB 50.7 MB/s \n",
            "\u001b[K     |████████████████████████████████| 128 kB 89.1 MB/s \n",
            "\u001b[K     |████████████████████████████████| 1.1 MB 70.0 MB/s \n",
            "\u001b[K     |████████████████████████████████| 10.9 MB 51.8 MB/s \n",
            "\u001b[K     |████████████████████████████████| 238 kB 71.0 MB/s \n",
            "\u001b[K     |████████████████████████████████| 77 kB 6.7 MB/s \n",
            "\u001b[K     |████████████████████████████████| 87 kB 6.8 MB/s \n",
            "\u001b[K     |████████████████████████████████| 1.3 MB 73.3 MB/s \n",
            "\u001b[K     |████████████████████████████████| 60.2 MB 1.2 MB/s \n",
            "\u001b[K     |████████████████████████████████| 840 kB 95.9 MB/s \n",
            "\u001b[K     |████████████████████████████████| 25.3 MB 87.3 MB/s \n",
            "\u001b[K     |████████████████████████████████| 352 kB 65.6 MB/s \n",
            "\u001b[K     |████████████████████████████████| 99 kB 8.2 MB/s \n",
            "\u001b[K     |████████████████████████████████| 40 kB 6.7 MB/s \n",
            "\u001b[K     |████████████████████████████████| 213 kB 71.9 MB/s \n",
            "\u001b[K     |████████████████████████████████| 1.1 MB 89.6 MB/s \n",
            "\u001b[?25h  Building wheel for fire (setup.py) ... \u001b[?25l\u001b[?25hdone\n",
            "  Building wheel for py-cpuinfo (setup.py) ... \u001b[?25l\u001b[?25hdone\n"
          ]
        }
      ],
      "source": [
        "!pip install -q tflite-model-maker"
      ]
    },
    {
      "cell_type": "code",
      "source": [
        "import numpy as np\n",
        "import os\n",
        "from tflite_model_maker import configs\n",
        "from tflite_model_maker import ExportFormat\n",
        "from tflite_model_maker import model_spec\n",
        "from tflite_model_maker import text_classifier\n",
        "from tflite_model_maker.text_classifier import DataLoader\n",
        "\n",
        "import tensorflow as tf\n",
        "assert tf.__version__.startswith('2')\n",
        "tf.get_logger().setLevel('ERROR')\n"
      ],
      "metadata": {
        "id": "MzTYWhBDeDcA"
      },
      "execution_count": 2,
      "outputs": []
    },
    {
      "cell_type": "code",
      "source": [
        "data_file = tf.keras.utils.get_file(fname='comment-spam.csv', \n",
        "  origin='https://storage.googleapis.com/laurencemoroney-blog.appspot.com/lmblog_comments.csv', \n",
        "  extract=False)"
      ],
      "metadata": {
        "colab": {
          "base_uri": "https://localhost:8080/"
        },
        "id": "Firrw4myetLK",
        "outputId": "5da4ea9c-41e1-46f2-ad09-0388aecd9c3a"
      },
      "execution_count": 3,
      "outputs": [
        {
          "output_type": "stream",
          "name": "stdout",
          "text": [
            "Downloading data from https://storage.googleapis.com/laurencemoroney-blog.appspot.com/lmblog_comments.csv\n",
            "237568/235543 [==============================] - 0s 0us/step\n",
            "245760/235543 [===============================] - 0s 0us/step\n"
          ]
        }
      ]
    },
    {
      "cell_type": "code",
      "source": [
        "spec = model_spec.get('average_word_vec')\n",
        "spec.num_words = 2000\n",
        "spec.seq_len = 20\n",
        "spec.wordvec_dim = 7"
      ],
      "metadata": {
        "id": "HjZ8zBLRe1wS"
      },
      "execution_count": 4,
      "outputs": []
    },
    {
      "cell_type": "code",
      "source": [
        "data = DataLoader.from_csv(\n",
        "    filename=data_file,\n",
        "    text_column='commenttext',\n",
        "    label_column='spam',\n",
        "    model_spec=spec,\n",
        "    delimiter=',',\n",
        "    shuffle=True,\n",
        "    is_training=True)\n",
        "\n",
        "train_data, test_data = data.split(0.9)"
      ],
      "metadata": {
        "id": "56HpkrtsfJIW"
      },
      "execution_count": 5,
      "outputs": []
    },
    {
      "cell_type": "code",
      "source": [
        "# Build the model\n",
        "model = text_classifier.create(train_data, model_spec=spec, epochs=50, \n",
        "                               validation_data=test_data)"
      ],
      "metadata": {
        "colab": {
          "base_uri": "https://localhost:8080/"
        },
        "id": "eN7fdUI1fRX-",
        "outputId": "0acf4633-2548-413e-830a-a1569628bb3a"
      },
      "execution_count": 6,
      "outputs": [
        {
          "output_type": "stream",
          "name": "stdout",
          "text": [
            "28/28 [==============================] - 1s 31ms/step - loss: 0.6360 - accuracy: 0.7712 - val_loss: 0.5952 - val_accuracy: 0.7200\n",
            "Epoch 2/2\n",
            "28/28 [==============================] - 0s 5ms/step - loss: 0.5552 - accuracy: 0.7690 - val_loss: 0.5221 - val_accuracy: 0.7900\n",
            "Epoch 3/3\n",
            "28/28 [==============================] - 0s 5ms/step - loss: 0.4834 - accuracy: 0.8393 - val_loss: 0.4530 - val_accuracy: 0.8400\n",
            "Epoch 4/4\n",
            "28/28 [==============================] - 0s 5ms/step - loss: 0.4135 - accuracy: 0.8906 - val_loss: 0.3901 - val_accuracy: 0.8800\n",
            "Epoch 5/5\n",
            "28/28 [==============================] - 0s 6ms/step - loss: 0.3555 - accuracy: 0.9342 - val_loss: 0.3359 - val_accuracy: 0.9300\n",
            "Epoch 6/6\n",
            "28/28 [==============================] - 0s 5ms/step - loss: 0.3065 - accuracy: 0.9386 - val_loss: 0.2906 - val_accuracy: 0.9400\n",
            "Epoch 7/7\n",
            "28/28 [==============================] - 0s 5ms/step - loss: 0.2659 - accuracy: 0.9408 - val_loss: 0.2541 - val_accuracy: 0.9400\n",
            "Epoch 8/8\n",
            "28/28 [==============================] - 0s 5ms/step - loss: 0.2383 - accuracy: 0.9475 - val_loss: 0.2262 - val_accuracy: 0.9300\n",
            "Epoch 9/9\n",
            "28/28 [==============================] - 0s 5ms/step - loss: 0.2095 - accuracy: 0.9542 - val_loss: 0.2051 - val_accuracy: 0.9300\n",
            "Epoch 10/10\n",
            "28/28 [==============================] - 0s 6ms/step - loss: 0.1927 - accuracy: 0.9498 - val_loss: 0.1893 - val_accuracy: 0.9300\n",
            "Epoch 11/11\n",
            "28/28 [==============================] - 0s 5ms/step - loss: 0.1706 - accuracy: 0.9531 - val_loss: 0.1774 - val_accuracy: 0.9300\n",
            "Epoch 12/12\n",
            "28/28 [==============================] - 0s 5ms/step - loss: 0.1601 - accuracy: 0.9576 - val_loss: 0.1684 - val_accuracy: 0.9300\n",
            "Epoch 13/13\n",
            "28/28 [==============================] - 0s 6ms/step - loss: 0.1558 - accuracy: 0.9576 - val_loss: 0.1620 - val_accuracy: 0.9300\n",
            "Epoch 14/14\n",
            "28/28 [==============================] - 0s 5ms/step - loss: 0.1448 - accuracy: 0.9565 - val_loss: 0.1569 - val_accuracy: 0.9300\n",
            "Epoch 15/15\n",
            "28/28 [==============================] - 0s 6ms/step - loss: 0.1385 - accuracy: 0.9621 - val_loss: 0.1521 - val_accuracy: 0.9300\n",
            "Epoch 16/16\n",
            "28/28 [==============================] - 0s 5ms/step - loss: 0.1260 - accuracy: 0.9643 - val_loss: 0.1479 - val_accuracy: 0.9300\n",
            "Epoch 17/17\n",
            "28/28 [==============================] - 0s 5ms/step - loss: 0.1279 - accuracy: 0.9632 - val_loss: 0.1434 - val_accuracy: 0.9300\n",
            "Epoch 18/18\n",
            "28/28 [==============================] - 0s 5ms/step - loss: 0.1239 - accuracy: 0.9665 - val_loss: 0.1401 - val_accuracy: 0.9400\n",
            "Epoch 19/19\n",
            "28/28 [==============================] - 0s 5ms/step - loss: 0.1185 - accuracy: 0.9688 - val_loss: 0.1371 - val_accuracy: 0.9400\n",
            "Epoch 20/20\n",
            "28/28 [==============================] - 0s 5ms/step - loss: 0.1070 - accuracy: 0.9699 - val_loss: 0.1343 - val_accuracy: 0.9400\n",
            "Epoch 21/21\n",
            "28/28 [==============================] - 0s 5ms/step - loss: 0.1120 - accuracy: 0.9676 - val_loss: 0.1321 - val_accuracy: 0.9300\n",
            "Epoch 22/22\n",
            "28/28 [==============================] - 0s 5ms/step - loss: 0.1003 - accuracy: 0.9721 - val_loss: 0.1294 - val_accuracy: 0.9300\n",
            "Epoch 23/23\n",
            "28/28 [==============================] - 0s 5ms/step - loss: 0.1006 - accuracy: 0.9754 - val_loss: 0.1270 - val_accuracy: 0.9300\n",
            "Epoch 24/24\n",
            "28/28 [==============================] - 0s 5ms/step - loss: 0.0915 - accuracy: 0.9721 - val_loss: 0.1254 - val_accuracy: 0.9300\n",
            "Epoch 25/25\n",
            "28/28 [==============================] - 0s 5ms/step - loss: 0.0916 - accuracy: 0.9766 - val_loss: 0.1222 - val_accuracy: 0.9400\n",
            "Epoch 26/26\n",
            "28/28 [==============================] - 0s 4ms/step - loss: 0.0871 - accuracy: 0.9788 - val_loss: 0.1201 - val_accuracy: 0.9500\n",
            "Epoch 27/27\n",
            "28/28 [==============================] - 0s 6ms/step - loss: 0.0826 - accuracy: 0.9810 - val_loss: 0.1180 - val_accuracy: 0.9400\n",
            "Epoch 28/28\n",
            "28/28 [==============================] - 0s 5ms/step - loss: 0.0819 - accuracy: 0.9799 - val_loss: 0.1161 - val_accuracy: 0.9400\n",
            "Epoch 29/29\n",
            "28/28 [==============================] - 0s 5ms/step - loss: 0.0761 - accuracy: 0.9788 - val_loss: 0.1140 - val_accuracy: 0.9400\n",
            "Epoch 30/30\n",
            "28/28 [==============================] - 0s 6ms/step - loss: 0.0756 - accuracy: 0.9799 - val_loss: 0.1120 - val_accuracy: 0.9400\n",
            "Epoch 31/31\n",
            "28/28 [==============================] - 0s 5ms/step - loss: 0.0653 - accuracy: 0.9799 - val_loss: 0.1112 - val_accuracy: 0.9500\n",
            "Epoch 32/32\n",
            "28/28 [==============================] - 0s 5ms/step - loss: 0.0640 - accuracy: 0.9810 - val_loss: 0.1100 - val_accuracy: 0.9400\n",
            "Epoch 33/33\n",
            "28/28 [==============================] - 0s 5ms/step - loss: 0.0703 - accuracy: 0.9777 - val_loss: 0.1089 - val_accuracy: 0.9400\n",
            "Epoch 34/34\n",
            "28/28 [==============================] - 0s 5ms/step - loss: 0.0632 - accuracy: 0.9844 - val_loss: 0.1068 - val_accuracy: 0.9400\n",
            "Epoch 35/35\n",
            "28/28 [==============================] - 0s 6ms/step - loss: 0.0613 - accuracy: 0.9844 - val_loss: 0.1056 - val_accuracy: 0.9400\n",
            "Epoch 36/36\n",
            "28/28 [==============================] - 0s 6ms/step - loss: 0.0484 - accuracy: 0.9866 - val_loss: 0.1041 - val_accuracy: 0.9500\n",
            "Epoch 37/37\n",
            "28/28 [==============================] - 0s 5ms/step - loss: 0.0610 - accuracy: 0.9833 - val_loss: 0.1029 - val_accuracy: 0.9400\n",
            "Epoch 38/38\n",
            "28/28 [==============================] - 0s 6ms/step - loss: 0.0546 - accuracy: 0.9855 - val_loss: 0.1025 - val_accuracy: 0.9400\n",
            "Epoch 39/39\n",
            "28/28 [==============================] - 0s 5ms/step - loss: 0.0539 - accuracy: 0.9866 - val_loss: 0.1021 - val_accuracy: 0.9500\n",
            "Epoch 40/40\n",
            "28/28 [==============================] - 0s 6ms/step - loss: 0.0509 - accuracy: 0.9888 - val_loss: 0.1029 - val_accuracy: 0.9400\n",
            "Epoch 41/41\n",
            "28/28 [==============================] - 0s 6ms/step - loss: 0.0464 - accuracy: 0.9866 - val_loss: 0.1025 - val_accuracy: 0.9500\n",
            "Epoch 42/42\n",
            "28/28 [==============================] - 0s 6ms/step - loss: 0.0506 - accuracy: 0.9855 - val_loss: 0.0984 - val_accuracy: 0.9500\n",
            "Epoch 43/43\n",
            "28/28 [==============================] - 0s 6ms/step - loss: 0.0437 - accuracy: 0.9877 - val_loss: 0.0967 - val_accuracy: 0.9500\n",
            "Epoch 44/44\n",
            "28/28 [==============================] - 0s 6ms/step - loss: 0.0481 - accuracy: 0.9855 - val_loss: 0.0983 - val_accuracy: 0.9500\n",
            "Epoch 45/45\n",
            "28/28 [==============================] - 0s 5ms/step - loss: 0.0425 - accuracy: 0.9866 - val_loss: 0.0979 - val_accuracy: 0.9500\n",
            "Epoch 46/46\n",
            "28/28 [==============================] - 0s 5ms/step - loss: 0.0404 - accuracy: 0.9888 - val_loss: 0.0965 - val_accuracy: 0.9500\n",
            "Epoch 47/47\n",
            "28/28 [==============================] - 0s 5ms/step - loss: 0.0379 - accuracy: 0.9900 - val_loss: 0.0941 - val_accuracy: 0.9500\n",
            "Epoch 48/48\n",
            "28/28 [==============================] - 0s 5ms/step - loss: 0.0393 - accuracy: 0.9900 - val_loss: 0.0943 - val_accuracy: 0.9500\n",
            "Epoch 49/49\n",
            "28/28 [==============================] - 0s 5ms/step - loss: 0.0382 - accuracy: 0.9888 - val_loss: 0.0927 - val_accuracy: 0.9500\n",
            "Epoch 50/50\n",
            "28/28 [==============================] - 0s 5ms/step - loss: 0.0366 - accuracy: 0.9888 - val_loss: 0.0900 - val_accuracy: 0.9500\n"
          ]
        }
      ]
    },
    {
      "cell_type": "code",
      "source": [
        "!ls"
      ],
      "metadata": {
        "colab": {
          "base_uri": "https://localhost:8080/"
        },
        "id": "3IGBUxMDflKo",
        "outputId": "5951d6ba-bba0-45e1-f71a-5fcd8521cbfc"
      },
      "execution_count": 8,
      "outputs": [
        {
          "output_type": "stream",
          "name": "stdout",
          "text": [
            "sample_data\n"
          ]
        }
      ]
    },
    {
      "cell_type": "code",
      "source": [
        "!mkdir mm_spam_savedmodel"
      ],
      "metadata": {
        "id": "ECDS7vaVf6rX"
      },
      "execution_count": 9,
      "outputs": []
    },
    {
      "cell_type": "code",
      "source": [
        "model.export(export_dir='/mm_spam_savedmodel', export_format=[ExportFormat.LABEL, ExportFormat.VOCAB, ExportFormat.SAVED_MODEL])"
      ],
      "metadata": {
        "id": "_yhCMty-gDQS"
      },
      "execution_count": 11,
      "outputs": []
    },
    {
      "cell_type": "code",
      "source": [
        "# Rename the SavedModel subfolder to a version number\n",
        "!mv /mm_spam_savedmodel/saved_model /mm_spam_savedmodel/1\n",
        "!zip -r mm_spam_savedmodel.zip /mm_spam_savedmodel/"
      ],
      "metadata": {
        "colab": {
          "base_uri": "https://localhost:8080/"
        },
        "id": "tNhB3eBHgFQV",
        "outputId": "0e9aecba-7cb9-40b8-bf63-18997b17d031"
      },
      "execution_count": 12,
      "outputs": [
        {
          "output_type": "stream",
          "name": "stdout",
          "text": [
            "  adding: mm_spam_savedmodel/ (stored 0%)\n",
            "  adding: mm_spam_savedmodel/labels.txt (stored 0%)\n",
            "  adding: mm_spam_savedmodel/1/ (stored 0%)\n",
            "  adding: mm_spam_savedmodel/1/keras_metadata.pb (deflated 86%)\n",
            "  adding: mm_spam_savedmodel/1/variables/ (stored 0%)\n",
            "  adding: mm_spam_savedmodel/1/variables/variables.data-00000-of-00001 (deflated 35%)\n",
            "  adding: mm_spam_savedmodel/1/variables/variables.index (deflated 59%)\n",
            "  adding: mm_spam_savedmodel/1/saved_model.pb (deflated 87%)\n",
            "  adding: mm_spam_savedmodel/1/assets/ (stored 0%)\n",
            "  adding: mm_spam_savedmodel/vocab.txt (deflated 47%)\n"
          ]
        }
      ]
    },
    {
      "cell_type": "code",
      "source": [],
      "metadata": {
        "id": "1teTybukgQHU"
      },
      "execution_count": null,
      "outputs": []
    }
  ]
}