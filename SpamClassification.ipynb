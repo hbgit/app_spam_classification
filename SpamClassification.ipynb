{
  "nbformat": 4,
  "nbformat_minor": 0,
  "metadata": {
    "colab": {
      "provenance": [],
      "authorship_tag": "ABX9TyN36FG6NYSgO/drub6N0DPI",
      "include_colab_link": true
    },
    "kernelspec": {
      "name": "python3",
      "display_name": "Python 3"
    },
    "language_info": {
      "name": "python"
    }
  },
  "cells": [
    {
      "cell_type": "markdown",
      "metadata": {
        "id": "view-in-github",
        "colab_type": "text"
      },
      "source": [
        "<a href=\"https://colab.research.google.com/github/hbgit/app_spam_classification/blob/main/SpamClassification.ipynb\" target=\"_parent\"><img src=\"https://colab.research.google.com/assets/colab-badge.svg\" alt=\"Open In Colab\"/></a>"
      ]
    },
    {
      "cell_type": "code",
      "execution_count": 1,
      "metadata": {
        "colab": {
          "base_uri": "https://localhost:8080/"
        },
        "id": "lw9nltYhd96C",
        "outputId": "f4dddeb8-f2fe-4563-e3ea-80d1b3de2738"
      },
      "outputs": [
        {
          "output_type": "stream",
          "name": "stdout",
          "text": [
            "\u001b[K     |████████████████████████████████| 577 kB 41.1 MB/s \n",
            "\u001b[K     |████████████████████████████████| 3.4 MB 50.7 MB/s \n",
            "\u001b[K     |████████████████████████████████| 128 kB 89.1 MB/s \n",
            "\u001b[K     |████████████████████████████████| 1.1 MB 70.0 MB/s \n",
            "\u001b[K     |████████████████████████████████| 10.9 MB 51.8 MB/s \n",
            "\u001b[K     |████████████████████████████████| 238 kB 71.0 MB/s \n",
            "\u001b[K     |████████████████████████████████| 77 kB 6.7 MB/s \n",
            "\u001b[K     |████████████████████████████████| 87 kB 6.8 MB/s \n",
            "\u001b[K     |████████████████████████████████| 1.3 MB 73.3 MB/s \n",
            "\u001b[K     |████████████████████████████████| 60.2 MB 1.2 MB/s \n",
            "\u001b[K     |████████████████████████████████| 840 kB 95.9 MB/s \n",
            "\u001b[K     |████████████████████████████████| 25.3 MB 87.3 MB/s \n",
            "\u001b[K     |████████████████████████████████| 352 kB 65.6 MB/s \n",
            "\u001b[K     |████████████████████████████████| 99 kB 8.2 MB/s \n",
            "\u001b[K     |████████████████████████████████| 40 kB 6.7 MB/s \n",
            "\u001b[K     |████████████████████████████████| 213 kB 71.9 MB/s \n",
            "\u001b[K     |████████████████████████████████| 1.1 MB 89.6 MB/s \n",
            "\u001b[?25h  Building wheel for fire (setup.py) ... \u001b[?25l\u001b[?25hdone\n",
            "  Building wheel for py-cpuinfo (setup.py) ... \u001b[?25l\u001b[?25hdone\n"
          ]
        }
      ],
      "source": [
        "!pip install -q tflite-model-maker"
      ]
    },
    {
      "cell_type": "code",
      "source": [],
      "metadata": {
        "id": "MzTYWhBDeDcA"
      },
      "execution_count": null,
      "outputs": []
    }
  ]
}